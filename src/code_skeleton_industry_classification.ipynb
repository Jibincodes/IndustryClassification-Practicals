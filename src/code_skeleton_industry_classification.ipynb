{
 "cells": [
  {
   "metadata": {},
   "cell_type": "markdown",
   "source": "# Industry Classification based on Business Description Embeddings",
   "id": "c898a65bc75a0470"
  },
  {
   "cell_type": "code",
   "id": "f564b91e",
   "metadata": {
    "ExecuteTime": {
     "end_time": "2025-10-07T19:33:59.635408Z",
     "start_time": "2025-10-07T19:33:59.629132Z"
    }
   },
   "source": [
    "import numpy as np\n",
    "import pandas as pd\n",
    "import ast\n",
    "\n",
    "from sklearn.model_selection import train_test_split\n",
    "from sklearn.preprocessing import OneHotEncoder, LabelEncoder\n",
    "\n",
    "from sklearn.linear_model import LogisticRegression\n",
    "from sklearn.metrics import accuracy_score, f1_score\n",
    "from sklearn.neighbors import KNeighborsClassifier\n",
    "from sklearn.decomposition import PCA\n",
    "import seaborn as sns"
   ],
   "outputs": [],
   "execution_count": 2
  },
  {
   "cell_type": "markdown",
   "id": "84070536",
   "metadata": {},
   "source": [
    "# Loading Data"
   ]
  },
  {
   "cell_type": "code",
   "id": "2e8d8fc1",
   "metadata": {
    "ExecuteTime": {
     "end_time": "2025-10-07T19:34:18.026586Z",
     "start_time": "2025-10-07T19:34:17.623224Z"
    }
   },
   "source": [
    "df = pd.read_pickle(\"../data/df_train.pkl\")\n",
    "\n",
    "df_train, df_val = train_test_split(df, test_size= 0.1, random_state=42)"
   ],
   "outputs": [],
   "execution_count": 3
  },
  {
   "cell_type": "code",
   "id": "4ac9b46c",
   "metadata": {
    "ExecuteTime": {
     "end_time": "2025-10-07T19:35:59.811667Z",
     "start_time": "2025-10-07T19:34:20.789892Z"
    }
   },
   "source": [
    "X_train = df_train.business_description_embedding.apply(ast.literal_eval).tolist()\n",
    "X_train = np.array(X_train)\n",
    "\n",
    "X_val = df_val.business_description_embedding.apply(ast.literal_eval).tolist()\n",
    "X_val = np.array(X_val)"
   ],
   "outputs": [],
   "execution_count": 4
  },
  {
   "cell_type": "code",
   "id": "70d9b070",
   "metadata": {
    "ExecuteTime": {
     "end_time": "2025-10-07T19:36:05.072708Z",
     "start_time": "2025-10-07T19:36:05.048973Z"
    }
   },
   "source": [
    "df_train.head(3)"
   ],
   "outputs": [
    {
     "data": {
      "text/plain": [
       "          id                         industry  \\\n",
       "31138  34170               Financial Services   \n",
       "15120  16504  Technology Hardware & Equipment   \n",
       "23693  25893      Consumer Durables & Apparel   \n",
       "\n",
       "                          business_description_embedding  \n",
       "31138  [0.019633012,0.009427597,0.006240986,0.0177257...  \n",
       "15120  [0.026561439,-0.049749356,-0.006847293,-0.0088...  \n",
       "23693  [0.0115894,-0.035240766,-0.029952582,0.0226988...  "
      ],
      "text/html": [
       "<div>\n",
       "<style scoped>\n",
       "    .dataframe tbody tr th:only-of-type {\n",
       "        vertical-align: middle;\n",
       "    }\n",
       "\n",
       "    .dataframe tbody tr th {\n",
       "        vertical-align: top;\n",
       "    }\n",
       "\n",
       "    .dataframe thead th {\n",
       "        text-align: right;\n",
       "    }\n",
       "</style>\n",
       "<table border=\"1\" class=\"dataframe\">\n",
       "  <thead>\n",
       "    <tr style=\"text-align: right;\">\n",
       "      <th></th>\n",
       "      <th>id</th>\n",
       "      <th>industry</th>\n",
       "      <th>business_description_embedding</th>\n",
       "    </tr>\n",
       "  </thead>\n",
       "  <tbody>\n",
       "    <tr>\n",
       "      <th>31138</th>\n",
       "      <td>34170</td>\n",
       "      <td>Financial Services</td>\n",
       "      <td>[0.019633012,0.009427597,0.006240986,0.0177257...</td>\n",
       "    </tr>\n",
       "    <tr>\n",
       "      <th>15120</th>\n",
       "      <td>16504</td>\n",
       "      <td>Technology Hardware &amp; Equipment</td>\n",
       "      <td>[0.026561439,-0.049749356,-0.006847293,-0.0088...</td>\n",
       "    </tr>\n",
       "    <tr>\n",
       "      <th>23693</th>\n",
       "      <td>25893</td>\n",
       "      <td>Consumer Durables &amp; Apparel</td>\n",
       "      <td>[0.0115894,-0.035240766,-0.029952582,0.0226988...</td>\n",
       "    </tr>\n",
       "  </tbody>\n",
       "</table>\n",
       "</div>"
      ]
     },
     "execution_count": 5,
     "metadata": {},
     "output_type": "execute_result"
    }
   ],
   "execution_count": 5
  },
  {
   "metadata": {},
   "cell_type": "markdown",
   "source": "# Initial Data Analysis",
   "id": "39794e2be0557128"
  },
  {
   "metadata": {
    "ExecuteTime": {
     "end_time": "2025-10-07T20:00:35.916319Z",
     "start_time": "2025-10-07T20:00:35.886365Z"
    }
   },
   "cell_type": "code",
   "source": [
    "#exploring the dataset\n",
    "df.info()\n"
   ],
   "id": "43b5894578e2033c",
   "outputs": [
    {
     "name": "stdout",
     "output_type": "stream",
     "text": [
      "<class 'pandas.core.frame.DataFrame'>\n",
      "Index: 31706 entries, 38532 to 15797\n",
      "Data columns (total 3 columns):\n",
      " #   Column                          Non-Null Count  Dtype \n",
      "---  ------                          --------------  ----- \n",
      " 0   id                              31706 non-null  int64 \n",
      " 1   industry                        31706 non-null  object\n",
      " 2   business_description_embedding  31706 non-null  object\n",
      "dtypes: int64(1), object(2)\n",
      "memory usage: 990.8+ KB\n"
     ]
    }
   ],
   "execution_count": 6
  },
  {
   "metadata": {
    "ExecuteTime": {
     "end_time": "2025-10-07T20:01:19.085369Z",
     "start_time": "2025-10-07T20:01:19.073458Z"
    }
   },
   "cell_type": "code",
   "source": "df.head()",
   "id": "3781ac43a2b1bcf0",
   "outputs": [
    {
     "data": {
      "text/plain": [
       "          id                            industry  \\\n",
       "38532  42576                               Banks   \n",
       "19838  21752                           Materials   \n",
       "904      804  Commercial & Professional Services   \n",
       "28806  31603                           Insurance   \n",
       "10472  11333                       Capital Goods   \n",
       "\n",
       "                          business_description_embedding  \n",
       "38532  [0.03411475,-0.03753958,0.023233214,-0.0017205...  \n",
       "19838  [-0.025557408,0.0636078,-0.01350581,-0.0180223...  \n",
       "904    [0.033574868,-0.020379327,-0.03221274,-0.01133...  \n",
       "28806  [0.020648101,0.017270269,-0.032921147,-0.01411...  \n",
       "10472  [-0.0006651232,0.011097765,-0.01976973,0.02299...  "
      ],
      "text/html": [
       "<div>\n",
       "<style scoped>\n",
       "    .dataframe tbody tr th:only-of-type {\n",
       "        vertical-align: middle;\n",
       "    }\n",
       "\n",
       "    .dataframe tbody tr th {\n",
       "        vertical-align: top;\n",
       "    }\n",
       "\n",
       "    .dataframe thead th {\n",
       "        text-align: right;\n",
       "    }\n",
       "</style>\n",
       "<table border=\"1\" class=\"dataframe\">\n",
       "  <thead>\n",
       "    <tr style=\"text-align: right;\">\n",
       "      <th></th>\n",
       "      <th>id</th>\n",
       "      <th>industry</th>\n",
       "      <th>business_description_embedding</th>\n",
       "    </tr>\n",
       "  </thead>\n",
       "  <tbody>\n",
       "    <tr>\n",
       "      <th>38532</th>\n",
       "      <td>42576</td>\n",
       "      <td>Banks</td>\n",
       "      <td>[0.03411475,-0.03753958,0.023233214,-0.0017205...</td>\n",
       "    </tr>\n",
       "    <tr>\n",
       "      <th>19838</th>\n",
       "      <td>21752</td>\n",
       "      <td>Materials</td>\n",
       "      <td>[-0.025557408,0.0636078,-0.01350581,-0.0180223...</td>\n",
       "    </tr>\n",
       "    <tr>\n",
       "      <th>904</th>\n",
       "      <td>804</td>\n",
       "      <td>Commercial &amp; Professional Services</td>\n",
       "      <td>[0.033574868,-0.020379327,-0.03221274,-0.01133...</td>\n",
       "    </tr>\n",
       "    <tr>\n",
       "      <th>28806</th>\n",
       "      <td>31603</td>\n",
       "      <td>Insurance</td>\n",
       "      <td>[0.020648101,0.017270269,-0.032921147,-0.01411...</td>\n",
       "    </tr>\n",
       "    <tr>\n",
       "      <th>10472</th>\n",
       "      <td>11333</td>\n",
       "      <td>Capital Goods</td>\n",
       "      <td>[-0.0006651232,0.011097765,-0.01976973,0.02299...</td>\n",
       "    </tr>\n",
       "  </tbody>\n",
       "</table>\n",
       "</div>"
      ]
     },
     "execution_count": 7,
     "metadata": {},
     "output_type": "execute_result"
    }
   ],
   "execution_count": 7
  },
  {
   "metadata": {
    "ExecuteTime": {
     "end_time": "2025-10-07T20:01:41.293701Z",
     "start_time": "2025-10-07T20:01:41.279818Z"
    }
   },
   "cell_type": "code",
   "source": "df.tail()",
   "id": "4a12a28d450cf553",
   "outputs": [
    {
     "data": {
      "text/plain": [
       "          id                         industry  \\\n",
       "6267    6403                    Capital Goods   \n",
       "11286  12224                    Capital Goods   \n",
       "38170  42174                   Transportation   \n",
       "860      754  Technology Hardware & Equipment   \n",
       "15797  17253                Consumer Services   \n",
       "\n",
       "                          business_description_embedding  \n",
       "6267   [0.022082254,-0.015513622,-0.029084805,0.02645...  \n",
       "11286  [-0.031132907,-0.049892895,-0.02100823,0.03896...  \n",
       "38170  [-0.025557408,0.0636078,-0.01350581,-0.0180223...  \n",
       "860    [0.04300068,-0.111498445,-0.0044387826,-0.0004...  \n",
       "15797  [0.067711435,-0.0050259987,-0.016451076,-0.005...  "
      ],
      "text/html": [
       "<div>\n",
       "<style scoped>\n",
       "    .dataframe tbody tr th:only-of-type {\n",
       "        vertical-align: middle;\n",
       "    }\n",
       "\n",
       "    .dataframe tbody tr th {\n",
       "        vertical-align: top;\n",
       "    }\n",
       "\n",
       "    .dataframe thead th {\n",
       "        text-align: right;\n",
       "    }\n",
       "</style>\n",
       "<table border=\"1\" class=\"dataframe\">\n",
       "  <thead>\n",
       "    <tr style=\"text-align: right;\">\n",
       "      <th></th>\n",
       "      <th>id</th>\n",
       "      <th>industry</th>\n",
       "      <th>business_description_embedding</th>\n",
       "    </tr>\n",
       "  </thead>\n",
       "  <tbody>\n",
       "    <tr>\n",
       "      <th>6267</th>\n",
       "      <td>6403</td>\n",
       "      <td>Capital Goods</td>\n",
       "      <td>[0.022082254,-0.015513622,-0.029084805,0.02645...</td>\n",
       "    </tr>\n",
       "    <tr>\n",
       "      <th>11286</th>\n",
       "      <td>12224</td>\n",
       "      <td>Capital Goods</td>\n",
       "      <td>[-0.031132907,-0.049892895,-0.02100823,0.03896...</td>\n",
       "    </tr>\n",
       "    <tr>\n",
       "      <th>38170</th>\n",
       "      <td>42174</td>\n",
       "      <td>Transportation</td>\n",
       "      <td>[-0.025557408,0.0636078,-0.01350581,-0.0180223...</td>\n",
       "    </tr>\n",
       "    <tr>\n",
       "      <th>860</th>\n",
       "      <td>754</td>\n",
       "      <td>Technology Hardware &amp; Equipment</td>\n",
       "      <td>[0.04300068,-0.111498445,-0.0044387826,-0.0004...</td>\n",
       "    </tr>\n",
       "    <tr>\n",
       "      <th>15797</th>\n",
       "      <td>17253</td>\n",
       "      <td>Consumer Services</td>\n",
       "      <td>[0.067711435,-0.0050259987,-0.016451076,-0.005...</td>\n",
       "    </tr>\n",
       "  </tbody>\n",
       "</table>\n",
       "</div>"
      ]
     },
     "execution_count": 8,
     "metadata": {},
     "output_type": "execute_result"
    }
   ],
   "execution_count": 8
  },
  {
   "metadata": {
    "ExecuteTime": {
     "end_time": "2025-10-07T20:02:06.353167Z",
     "start_time": "2025-10-07T20:02:06.339519Z"
    }
   },
   "cell_type": "code",
   "source": [
    "#show me all values in column 'industry'\n",
    "df['industry'].value_counts()"
   ],
   "id": "8cfa527c2ebd1317",
   "outputs": [
    {
     "data": {
      "text/plain": [
       "industry\n",
       "Materials                                         8394\n",
       "Capital Goods                                     3127\n",
       "Financial Services                                1936\n",
       "Pharmaceuticals, Biotechnology & Life Sciences    1925\n",
       "Technology Hardware & Equipment                   1547\n",
       "Software & Services                               1537\n",
       "Energy                                            1326\n",
       "Consumer Durables & Apparel                       1164\n",
       "Food, Beverage & Tobacco                          1094\n",
       "Health Care Equipment & Services                  1014\n",
       "Banks                                              948\n",
       "Media & Entertainment                              915\n",
       "Real Estate Management & Development               906\n",
       "Commercial & Professional Services                 804\n",
       "Consumer Services                                  672\n",
       "Consumer Discretionary Distribution & Retail       658\n",
       "Automobiles & Components                           625\n",
       "Semiconductors & Semiconductor Equipment           607\n",
       "Transportation                                     585\n",
       "Utilities                                          569\n",
       "Equity Real Estate Investment Trusts (REITs)       432\n",
       "Insurance                                          287\n",
       "Telecommunication Services                         230\n",
       "Household & Personal Products                      226\n",
       "Consumer Staples Distribution & Retail             178\n",
       "Name: count, dtype: int64"
      ]
     },
     "execution_count": 9,
     "metadata": {},
     "output_type": "execute_result"
    }
   ],
   "execution_count": 9
  },
  {
   "metadata": {
    "ExecuteTime": {
     "end_time": "2025-10-07T20:08:13.706192Z",
     "start_time": "2025-10-07T20:08:13.682308Z"
    }
   },
   "cell_type": "code",
   "source": "df.isnull().sum()",
   "id": "57ef00a5a87d22e3",
   "outputs": [
    {
     "data": {
      "text/plain": [
       "id                                0\n",
       "industry                          0\n",
       "business_description_embedding    0\n",
       "dtype: int64"
      ]
     },
     "execution_count": 10,
     "metadata": {},
     "output_type": "execute_result"
    }
   ],
   "execution_count": 10
  },
  {
   "metadata": {
    "ExecuteTime": {
     "end_time": "2025-10-07T20:08:40.987509Z",
     "start_time": "2025-10-07T20:08:39.909106Z"
    }
   },
   "cell_type": "code",
   "source": "df.nunique()",
   "id": "864b388a65409606",
   "outputs": [
    {
     "data": {
      "text/plain": [
       "id                                31705\n",
       "industry                             25\n",
       "business_description_embedding    27128\n",
       "dtype: int64"
      ]
     },
     "execution_count": 11,
     "metadata": {},
     "output_type": "execute_result"
    }
   ],
   "execution_count": 11
  },
  {
   "metadata": {
    "ExecuteTime": {
     "end_time": "2025-10-07T20:14:32.408653Z",
     "start_time": "2025-10-07T20:14:32.386162Z"
    }
   },
   "cell_type": "code",
   "source": [
    "# to see the financial data present in df_financials_train.pkl\n",
    "df = pd.read_pickle(\"../data/df_financials_train.pkl\")\n",
    "df.info()"
   ],
   "id": "3ca3a5e8694946e9",
   "outputs": [
    {
     "name": "stdout",
     "output_type": "stream",
     "text": [
      "<class 'pandas.core.frame.DataFrame'>\n",
      "Index: 29561 entries, 0 to 38419\n",
      "Data columns (total 5 columns):\n",
      " #   Column             Non-Null Count  Dtype  \n",
      "---  ------             --------------  -----  \n",
      " 0   id                 29561 non-null  int64  \n",
      " 1   country_code       29561 non-null  object \n",
      " 2   net_profit_margin  28450 non-null  float64\n",
      " 3   ebitda_margin      10282 non-null  float64\n",
      " 4   asset_turnover     28198 non-null  float64\n",
      "dtypes: float64(3), int64(1), object(1)\n",
      "memory usage: 1.4+ MB\n"
     ]
    }
   ],
   "execution_count": 15
  },
  {
   "metadata": {
    "ExecuteTime": {
     "end_time": "2025-10-07T20:15:30.707276Z",
     "start_time": "2025-10-07T20:15:30.690160Z"
    }
   },
   "cell_type": "code",
   "source": "df.head()",
   "id": "30edf1cb12966ef3",
   "outputs": [
    {
     "data": {
      "text/plain": [
       "   id country_code  net_profit_margin  ebitda_margin  asset_turnover\n",
       "0   0          CHN           0.303422            NaN        0.025426\n",
       "1   1          CHN          -0.141921      -0.130371        0.266802\n",
       "2   2          CHN          -1.333215            NaN        0.317023\n",
       "3   3          CHN          -0.258595            NaN        0.352064\n",
       "4   4          CHN           0.183619            NaN        0.963834"
      ],
      "text/html": [
       "<div>\n",
       "<style scoped>\n",
       "    .dataframe tbody tr th:only-of-type {\n",
       "        vertical-align: middle;\n",
       "    }\n",
       "\n",
       "    .dataframe tbody tr th {\n",
       "        vertical-align: top;\n",
       "    }\n",
       "\n",
       "    .dataframe thead th {\n",
       "        text-align: right;\n",
       "    }\n",
       "</style>\n",
       "<table border=\"1\" class=\"dataframe\">\n",
       "  <thead>\n",
       "    <tr style=\"text-align: right;\">\n",
       "      <th></th>\n",
       "      <th>id</th>\n",
       "      <th>country_code</th>\n",
       "      <th>net_profit_margin</th>\n",
       "      <th>ebitda_margin</th>\n",
       "      <th>asset_turnover</th>\n",
       "    </tr>\n",
       "  </thead>\n",
       "  <tbody>\n",
       "    <tr>\n",
       "      <th>0</th>\n",
       "      <td>0</td>\n",
       "      <td>CHN</td>\n",
       "      <td>0.303422</td>\n",
       "      <td>NaN</td>\n",
       "      <td>0.025426</td>\n",
       "    </tr>\n",
       "    <tr>\n",
       "      <th>1</th>\n",
       "      <td>1</td>\n",
       "      <td>CHN</td>\n",
       "      <td>-0.141921</td>\n",
       "      <td>-0.130371</td>\n",
       "      <td>0.266802</td>\n",
       "    </tr>\n",
       "    <tr>\n",
       "      <th>2</th>\n",
       "      <td>2</td>\n",
       "      <td>CHN</td>\n",
       "      <td>-1.333215</td>\n",
       "      <td>NaN</td>\n",
       "      <td>0.317023</td>\n",
       "    </tr>\n",
       "    <tr>\n",
       "      <th>3</th>\n",
       "      <td>3</td>\n",
       "      <td>CHN</td>\n",
       "      <td>-0.258595</td>\n",
       "      <td>NaN</td>\n",
       "      <td>0.352064</td>\n",
       "    </tr>\n",
       "    <tr>\n",
       "      <th>4</th>\n",
       "      <td>4</td>\n",
       "      <td>CHN</td>\n",
       "      <td>0.183619</td>\n",
       "      <td>NaN</td>\n",
       "      <td>0.963834</td>\n",
       "    </tr>\n",
       "  </tbody>\n",
       "</table>\n",
       "</div>"
      ]
     },
     "execution_count": 16,
     "metadata": {},
     "output_type": "execute_result"
    }
   ],
   "execution_count": 16
  },
  {
   "cell_type": "markdown",
   "id": "86b9c942",
   "metadata": {},
   "source": [
    "# Transforming Data (Label Encoding)\n",
    "\n",
    "### Tasks:\n",
    "- Use the scikit-learn label encoder to encode the industry names\n",
    "- Check if all classes contained in the validation set are also in the training set"
   ]
  },
  {
   "cell_type": "markdown",
   "id": "f10e2318",
   "metadata": {},
   "source": [
    "#"
   ]
  },
  {
   "cell_type": "code",
   "execution_count": 147,
   "id": "a30f15d8",
   "metadata": {},
   "outputs": [],
   "source": [
    "# Fit the label encoder to the classes (industry names)"
   ]
  },
  {
   "cell_type": "code",
   "execution_count": 146,
   "id": "688047af",
   "metadata": {},
   "outputs": [],
   "source": [
    "y_train = None # encode labels\n",
    "y_val =  None # encode labels"
   ]
  },
  {
   "cell_type": "markdown",
   "id": "acb5c66a",
   "metadata": {},
   "source": [
    "# Visualize the data"
   ]
  },
  {
   "cell_type": "markdown",
   "id": "fd414b4b",
   "metadata": {},
   "source": [
    "### Tasks:\n",
    "- Are certain classes over- or under represented? Either produce a table or a plot to show this.\n",
    "- Inspect whether there is signal in the business description embeddings:\n",
    "    - Perform a PCA to project data into 2 dimensions\n",
    "    - Plot projected data in Scatterplot and color based on classes\n",
    "    - Provide a description of what you see and judge whether there is signal in the data that allows industry classification\n",
    "\n",
    "Important: Ensure that your plots have proper axis descriptions and titles. Style the plots so that differences in class distributions are visible (e.g. scatter size, transparency, color, etc.)"
   ]
  },
  {
   "cell_type": "markdown",
   "id": "44a7ef88",
   "metadata": {},
   "source": [
    "### Class distribution"
   ]
  },
  {
   "cell_type": "code",
   "execution_count": 125,
   "id": "25bcfe32",
   "metadata": {},
   "outputs": [],
   "source": [
    "# Plot the class distribution or provide a table that shows how many times each class (industry) appears\n",
    "# Describe your findings"
   ]
  },
  {
   "cell_type": "markdown",
   "id": "debe2d11",
   "metadata": {},
   "source": [
    "### PCA - Dimensionality reduction and visualization"
   ]
  },
  {
   "cell_type": "code",
   "execution_count": 126,
   "id": "b66fb94d",
   "metadata": {},
   "outputs": [],
   "source": [
    "# Performa a PCA and plot the projected data. Color the scatter plot based on the classes\n",
    "# Analyse what you see"
   ]
  },
  {
   "cell_type": "markdown",
   "id": "58796834",
   "metadata": {},
   "source": [
    "# Fitting and comparing Classifier Models"
   ]
  },
  {
   "cell_type": "markdown",
   "id": "7f9a99e0",
   "metadata": {},
   "source": [
    "### Tasks:\n",
    "- Split the data into train and validation data\n",
    "- Encode the industry labels using LabelEncoder (scikit-learn)\n",
    "- Fit a LogisticRegression and a kNN-classifier\n",
    "- Compare the model performance of both models:\n",
    "    - Compute Accuracy and F1 score\n",
    "        - Interpret the scores: Explain how they are computed and judge if your model performs well\n",
    "        - Analyze the classification errors: \n",
    "            - Do the errors correlate with how well classes are represented?\n",
    "            - Which industries does the model identify well and which seem to be similar?\n",
    "    - Plot a confusion matrix for both models (combine scikit-learn confusion matrix and seaborn heatmap plot)\n",
    "    - Do both models misclassify the same examples?\n",
    "\n",
    "Import: Use proper axis labels for the plots! "
   ]
  },
  {
   "cell_type": "code",
   "execution_count": 148,
   "id": "1d5d99bd",
   "metadata": {},
   "outputs": [],
   "source": [
    "# your code"
   ]
  },
  {
   "cell_type": "markdown",
   "id": "d74c9bb5",
   "metadata": {},
   "source": [
    "# Optional: Confidence Weighted Prediction\n",
    "\n",
    "## Deliverables:\n",
    "\n",
    "- Provide a notebook with the implementation and training of a industry classifier model\n",
    "- The model shall output the industry classification and its confidence as a tuple of vectors $(\\hat{y}_{pred}, \\hat{y}_{confidence})$\n",
    "- The confidence score must be between 0 and 1, $\\hat{y}_{confidence} [i] \\in [0,1]$\n",
    "- Your model will be evaluated on a private test set\n",
    "- The designing the confidence score is your task. You may use p-values, a voting mechanism of multiple models, or other techniques\n",
    "- Another option is to add more features, e.g. financial data, to X"
   ]
  },
  {
   "cell_type": "code",
   "execution_count": 139,
   "id": "59397174",
   "metadata": {},
   "outputs": [],
   "source": [
    "def confidence_weighted_f1(y_true, y_pred, confidence):\n",
    "    # Weight all predictions, not just positives\n",
    "    weighted_tp = np.sum(confidence * (y_pred == 1) * (y_true == 1))\n",
    "    weighted_fp = np.sum(confidence * (y_pred == 1) * (y_true == 0))\n",
    "    weighted_fn = np.sum(confidence * (y_pred == 0) * (y_true == 1))\n",
    "    \n",
    "    precision = weighted_tp / (weighted_tp + weighted_fp) if (weighted_tp + weighted_fp) > 0 else 0\n",
    "    recall = weighted_tp / (weighted_tp + weighted_fn) if (weighted_tp + weighted_fn) > 0 else 0\n",
    "    \n",
    "    f1 = 2 * (precision * recall) / (precision + recall) if (precision + recall) > 0 else 0\n",
    "    return f1"
   ]
  },
  {
   "cell_type": "code",
   "execution_count": null,
   "id": "1ef12211",
   "metadata": {},
   "outputs": [],
   "source": []
  }
 ],
 "metadata": {
  "kernelspec": {
   "display_name": ".venv",
   "language": "python",
   "name": "python3"
  },
  "language_info": {
   "codemirror_mode": {
    "name": "ipython",
    "version": 3
   },
   "file_extension": ".py",
   "mimetype": "text/x-python",
   "name": "python",
   "nbconvert_exporter": "python",
   "pygments_lexer": "ipython3",
   "version": "3.10.18"
  }
 },
 "nbformat": 4,
 "nbformat_minor": 5
}
